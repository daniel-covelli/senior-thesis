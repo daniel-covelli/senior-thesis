{
 "cells": [
  {
   "cell_type": "code",
   "execution_count": 367,
   "metadata": {},
   "outputs": [],
   "source": [
    "import pandas as pd\n",
    "import numpy as np\n",
    "import plotly.express as px\n",
    "import plotly.graph_objects as go"
   ]
  },
  {
   "cell_type": "code",
   "execution_count": 368,
   "metadata": {},
   "outputs": [],
   "source": [
    "right_set_6 = pd.read_csv('/Users/danielcovelli/Desktop/ISF190/data/right_set_6.csv')\n",
    "left_set_6 = pd.read_csv('/Users/danielcovelli/Desktop/ISF190/data/left_set_6.csv')\n",
    "neutral_set_6 = pd.read_csv('/Users/danielcovelli/Desktop/ISF190/data/neutral_set_6.csv')\n",
    "\n",
    "def each_pass(set, bias, color):\n",
    "    \"\"\" \n",
    "    returns a dictionary of weights \n",
    "    per topic for each set provided \n",
    "    \"\"\"\n",
    "    dic = {}\n",
    "    for i in range(5):\n",
    "        df = set[(set['topic_n'] == i)]\n",
    "        df_weights = df.groupby(['round', 'topic', 'topic_n'], as_index=False)['weight'].mean()\n",
    "        dic[i] = {\"weights\": df_weights['weight'].tolist(), \"topic\":df_weights['topic'][0], \"bias\": bias, \"color\": color}\n",
    "    return dic\n",
    "\n",
    "#  \"#F8A19F\"\n",
    "\n",
    "df_right = each_pass(right_set_6, \"Right\", \"rgb(251,106,74)\")\n",
    "df_left = each_pass(left_set_6, \"Left\", \"rgb(107,174,214)\")\n",
    "df_neutral = each_pass(neutral_set_6, \"Neutral\", \"rgb(115,115,115)\")"
   ]
  },
  {
   "cell_type": "code",
   "execution_count": 369,
   "metadata": {},
   "outputs": [],
   "source": [
    "# concatinates sets\n",
    "df_master = pd.concat([right_set_6, neutral_set_6,left_set_6])"
   ]
  },
  {
   "cell_type": "code",
   "execution_count": 370,
   "metadata": {},
   "outputs": [],
   "source": [
    "# agg mean at each round for bots\n",
    "df_ws = df_master.groupby(['bias','round'], as_index=False)['weight'].mean()"
   ]
  },
  {
   "cell_type": "code",
   "execution_count": 371,
   "metadata": {},
   "outputs": [],
   "source": [
    "df_l = df_ws[(df_ws['bias'] == 'Left')]\n",
    "df_r = df_ws[(df_ws['bias'] == 'Right')]\n",
    "df_n = df_ws[(df_ws['bias'] == 'Neutral')]\n",
    "\n",
    "left_vals = df_l['weight'].tolist()\n",
    "neutral_vals = df_n['weight'].tolist()\n",
    "right_vals = df_r['weight'].tolist()\n",
    "rounds = df_l['round'].tolist()"
   ]
  },
  {
   "cell_type": "code",
   "execution_count": 372,
   "metadata": {},
   "outputs": [
    {
     "output_type": "display_data",
     "data": {
      "application/vnd.plotly.v1+json": {
       "config": {
        "plotlyServerURL": "https://plot.ly"
       },
       "data": [
        {
         "line": {
          "color": "rgb(203,24,29)",
          "width": 2
         },
         "mode": "lines",
         "name": "Right Bot",
         "type": "scatter",
         "x": [
          0,
          1,
          2,
          3,
          4
         ],
         "y": [
          0.18503968253968253,
          0.7823571428571428,
          0.7723809523809522,
          0.6834523809523809,
          1.1333333333333333
         ]
        },
        {
         "line": {
          "color": "rgb(33,113,181)",
          "width": 2
         },
         "mode": "lines",
         "name": "Left Bot",
         "type": "scatter",
         "x": [
          0,
          1,
          2,
          3,
          4
         ],
         "y": [
          0.15476190476190474,
          -0.34402380952380957,
          -0.8905952380952378,
          -1.040238095238095,
          -1.0595238095238093
         ]
        },
        {
         "line": {
          "color": "rgb(84,84,84)",
          "width": 2
         },
         "mode": "lines",
         "name": "Neutral Bot",
         "type": "scatter",
         "x": [
          0,
          1,
          2,
          3,
          4
         ],
         "y": [
          0.15476190476190474,
          0.36023015873015873,
          0.19809523809523802,
          0.23404761904761898,
          0.18420634920634918
         ]
        }
       ],
       "layout": {
        "height": 525,
        "legend": {
         "title": {
          "text": "Bots"
         }
        },
        "template": {
         "data": {
          "bar": [
           {
            "error_x": {
             "color": "#2a3f5f"
            },
            "error_y": {
             "color": "#2a3f5f"
            },
            "marker": {
             "line": {
              "color": "#E5ECF6",
              "width": 0.5
             }
            },
            "type": "bar"
           }
          ],
          "barpolar": [
           {
            "marker": {
             "line": {
              "color": "#E5ECF6",
              "width": 0.5
             }
            },
            "type": "barpolar"
           }
          ],
          "carpet": [
           {
            "aaxis": {
             "endlinecolor": "#2a3f5f",
             "gridcolor": "white",
             "linecolor": "white",
             "minorgridcolor": "white",
             "startlinecolor": "#2a3f5f"
            },
            "baxis": {
             "endlinecolor": "#2a3f5f",
             "gridcolor": "white",
             "linecolor": "white",
             "minorgridcolor": "white",
             "startlinecolor": "#2a3f5f"
            },
            "type": "carpet"
           }
          ],
          "choropleth": [
           {
            "colorbar": {
             "outlinewidth": 0,
             "ticks": ""
            },
            "type": "choropleth"
           }
          ],
          "contour": [
           {
            "colorbar": {
             "outlinewidth": 0,
             "ticks": ""
            },
            "colorscale": [
             [
              0,
              "#0d0887"
             ],
             [
              0.1111111111111111,
              "#46039f"
             ],
             [
              0.2222222222222222,
              "#7201a8"
             ],
             [
              0.3333333333333333,
              "#9c179e"
             ],
             [
              0.4444444444444444,
              "#bd3786"
             ],
             [
              0.5555555555555556,
              "#d8576b"
             ],
             [
              0.6666666666666666,
              "#ed7953"
             ],
             [
              0.7777777777777778,
              "#fb9f3a"
             ],
             [
              0.8888888888888888,
              "#fdca26"
             ],
             [
              1,
              "#f0f921"
             ]
            ],
            "type": "contour"
           }
          ],
          "contourcarpet": [
           {
            "colorbar": {
             "outlinewidth": 0,
             "ticks": ""
            },
            "type": "contourcarpet"
           }
          ],
          "heatmap": [
           {
            "colorbar": {
             "outlinewidth": 0,
             "ticks": ""
            },
            "colorscale": [
             [
              0,
              "#0d0887"
             ],
             [
              0.1111111111111111,
              "#46039f"
             ],
             [
              0.2222222222222222,
              "#7201a8"
             ],
             [
              0.3333333333333333,
              "#9c179e"
             ],
             [
              0.4444444444444444,
              "#bd3786"
             ],
             [
              0.5555555555555556,
              "#d8576b"
             ],
             [
              0.6666666666666666,
              "#ed7953"
             ],
             [
              0.7777777777777778,
              "#fb9f3a"
             ],
             [
              0.8888888888888888,
              "#fdca26"
             ],
             [
              1,
              "#f0f921"
             ]
            ],
            "type": "heatmap"
           }
          ],
          "heatmapgl": [
           {
            "colorbar": {
             "outlinewidth": 0,
             "ticks": ""
            },
            "colorscale": [
             [
              0,
              "#0d0887"
             ],
             [
              0.1111111111111111,
              "#46039f"
             ],
             [
              0.2222222222222222,
              "#7201a8"
             ],
             [
              0.3333333333333333,
              "#9c179e"
             ],
             [
              0.4444444444444444,
              "#bd3786"
             ],
             [
              0.5555555555555556,
              "#d8576b"
             ],
             [
              0.6666666666666666,
              "#ed7953"
             ],
             [
              0.7777777777777778,
              "#fb9f3a"
             ],
             [
              0.8888888888888888,
              "#fdca26"
             ],
             [
              1,
              "#f0f921"
             ]
            ],
            "type": "heatmapgl"
           }
          ],
          "histogram": [
           {
            "marker": {
             "colorbar": {
              "outlinewidth": 0,
              "ticks": ""
             }
            },
            "type": "histogram"
           }
          ],
          "histogram2d": [
           {
            "colorbar": {
             "outlinewidth": 0,
             "ticks": ""
            },
            "colorscale": [
             [
              0,
              "#0d0887"
             ],
             [
              0.1111111111111111,
              "#46039f"
             ],
             [
              0.2222222222222222,
              "#7201a8"
             ],
             [
              0.3333333333333333,
              "#9c179e"
             ],
             [
              0.4444444444444444,
              "#bd3786"
             ],
             [
              0.5555555555555556,
              "#d8576b"
             ],
             [
              0.6666666666666666,
              "#ed7953"
             ],
             [
              0.7777777777777778,
              "#fb9f3a"
             ],
             [
              0.8888888888888888,
              "#fdca26"
             ],
             [
              1,
              "#f0f921"
             ]
            ],
            "type": "histogram2d"
           }
          ],
          "histogram2dcontour": [
           {
            "colorbar": {
             "outlinewidth": 0,
             "ticks": ""
            },
            "colorscale": [
             [
              0,
              "#0d0887"
             ],
             [
              0.1111111111111111,
              "#46039f"
             ],
             [
              0.2222222222222222,
              "#7201a8"
             ],
             [
              0.3333333333333333,
              "#9c179e"
             ],
             [
              0.4444444444444444,
              "#bd3786"
             ],
             [
              0.5555555555555556,
              "#d8576b"
             ],
             [
              0.6666666666666666,
              "#ed7953"
             ],
             [
              0.7777777777777778,
              "#fb9f3a"
             ],
             [
              0.8888888888888888,
              "#fdca26"
             ],
             [
              1,
              "#f0f921"
             ]
            ],
            "type": "histogram2dcontour"
           }
          ],
          "mesh3d": [
           {
            "colorbar": {
             "outlinewidth": 0,
             "ticks": ""
            },
            "type": "mesh3d"
           }
          ],
          "parcoords": [
           {
            "line": {
             "colorbar": {
              "outlinewidth": 0,
              "ticks": ""
             }
            },
            "type": "parcoords"
           }
          ],
          "pie": [
           {
            "automargin": true,
            "type": "pie"
           }
          ],
          "scatter": [
           {
            "marker": {
             "colorbar": {
              "outlinewidth": 0,
              "ticks": ""
             }
            },
            "type": "scatter"
           }
          ],
          "scatter3d": [
           {
            "line": {
             "colorbar": {
              "outlinewidth": 0,
              "ticks": ""
             }
            },
            "marker": {
             "colorbar": {
              "outlinewidth": 0,
              "ticks": ""
             }
            },
            "type": "scatter3d"
           }
          ],
          "scattercarpet": [
           {
            "marker": {
             "colorbar": {
              "outlinewidth": 0,
              "ticks": ""
             }
            },
            "type": "scattercarpet"
           }
          ],
          "scattergeo": [
           {
            "marker": {
             "colorbar": {
              "outlinewidth": 0,
              "ticks": ""
             }
            },
            "type": "scattergeo"
           }
          ],
          "scattergl": [
           {
            "marker": {
             "colorbar": {
              "outlinewidth": 0,
              "ticks": ""
             }
            },
            "type": "scattergl"
           }
          ],
          "scattermapbox": [
           {
            "marker": {
             "colorbar": {
              "outlinewidth": 0,
              "ticks": ""
             }
            },
            "type": "scattermapbox"
           }
          ],
          "scatterpolar": [
           {
            "marker": {
             "colorbar": {
              "outlinewidth": 0,
              "ticks": ""
             }
            },
            "type": "scatterpolar"
           }
          ],
          "scatterpolargl": [
           {
            "marker": {
             "colorbar": {
              "outlinewidth": 0,
              "ticks": ""
             }
            },
            "type": "scatterpolargl"
           }
          ],
          "scatterternary": [
           {
            "marker": {
             "colorbar": {
              "outlinewidth": 0,
              "ticks": ""
             }
            },
            "type": "scatterternary"
           }
          ],
          "surface": [
           {
            "colorbar": {
             "outlinewidth": 0,
             "ticks": ""
            },
            "colorscale": [
             [
              0,
              "#0d0887"
             ],
             [
              0.1111111111111111,
              "#46039f"
             ],
             [
              0.2222222222222222,
              "#7201a8"
             ],
             [
              0.3333333333333333,
              "#9c179e"
             ],
             [
              0.4444444444444444,
              "#bd3786"
             ],
             [
              0.5555555555555556,
              "#d8576b"
             ],
             [
              0.6666666666666666,
              "#ed7953"
             ],
             [
              0.7777777777777778,
              "#fb9f3a"
             ],
             [
              0.8888888888888888,
              "#fdca26"
             ],
             [
              1,
              "#f0f921"
             ]
            ],
            "type": "surface"
           }
          ],
          "table": [
           {
            "cells": {
             "fill": {
              "color": "#EBF0F8"
             },
             "line": {
              "color": "white"
             }
            },
            "header": {
             "fill": {
              "color": "#C8D4E3"
             },
             "line": {
              "color": "white"
             }
            },
            "type": "table"
           }
          ]
         },
         "layout": {
          "annotationdefaults": {
           "arrowcolor": "#2a3f5f",
           "arrowhead": 0,
           "arrowwidth": 1
          },
          "coloraxis": {
           "colorbar": {
            "outlinewidth": 0,
            "ticks": ""
           }
          },
          "colorscale": {
           "diverging": [
            [
             0,
             "#8e0152"
            ],
            [
             0.1,
             "#c51b7d"
            ],
            [
             0.2,
             "#de77ae"
            ],
            [
             0.3,
             "#f1b6da"
            ],
            [
             0.4,
             "#fde0ef"
            ],
            [
             0.5,
             "#f7f7f7"
            ],
            [
             0.6,
             "#e6f5d0"
            ],
            [
             0.7,
             "#b8e186"
            ],
            [
             0.8,
             "#7fbc41"
            ],
            [
             0.9,
             "#4d9221"
            ],
            [
             1,
             "#276419"
            ]
           ],
           "sequential": [
            [
             0,
             "#0d0887"
            ],
            [
             0.1111111111111111,
             "#46039f"
            ],
            [
             0.2222222222222222,
             "#7201a8"
            ],
            [
             0.3333333333333333,
             "#9c179e"
            ],
            [
             0.4444444444444444,
             "#bd3786"
            ],
            [
             0.5555555555555556,
             "#d8576b"
            ],
            [
             0.6666666666666666,
             "#ed7953"
            ],
            [
             0.7777777777777778,
             "#fb9f3a"
            ],
            [
             0.8888888888888888,
             "#fdca26"
            ],
            [
             1,
             "#f0f921"
            ]
           ],
           "sequentialminus": [
            [
             0,
             "#0d0887"
            ],
            [
             0.1111111111111111,
             "#46039f"
            ],
            [
             0.2222222222222222,
             "#7201a8"
            ],
            [
             0.3333333333333333,
             "#9c179e"
            ],
            [
             0.4444444444444444,
             "#bd3786"
            ],
            [
             0.5555555555555556,
             "#d8576b"
            ],
            [
             0.6666666666666666,
             "#ed7953"
            ],
            [
             0.7777777777777778,
             "#fb9f3a"
            ],
            [
             0.8888888888888888,
             "#fdca26"
            ],
            [
             1,
             "#f0f921"
            ]
           ]
          },
          "colorway": [
           "#636efa",
           "#EF553B",
           "#00cc96",
           "#ab63fa",
           "#FFA15A",
           "#19d3f3",
           "#FF6692",
           "#B6E880",
           "#FF97FF",
           "#FECB52"
          ],
          "font": {
           "color": "#2a3f5f"
          },
          "geo": {
           "bgcolor": "white",
           "lakecolor": "white",
           "landcolor": "#E5ECF6",
           "showlakes": true,
           "showland": true,
           "subunitcolor": "white"
          },
          "hoverlabel": {
           "align": "left"
          },
          "hovermode": "closest",
          "mapbox": {
           "style": "light"
          },
          "paper_bgcolor": "white",
          "plot_bgcolor": "#E5ECF6",
          "polar": {
           "angularaxis": {
            "gridcolor": "white",
            "linecolor": "white",
            "ticks": ""
           },
           "bgcolor": "#E5ECF6",
           "radialaxis": {
            "gridcolor": "white",
            "linecolor": "white",
            "ticks": ""
           }
          },
          "scene": {
           "xaxis": {
            "backgroundcolor": "#E5ECF6",
            "gridcolor": "white",
            "gridwidth": 2,
            "linecolor": "white",
            "showbackground": true,
            "ticks": "",
            "zerolinecolor": "white"
           },
           "yaxis": {
            "backgroundcolor": "#E5ECF6",
            "gridcolor": "white",
            "gridwidth": 2,
            "linecolor": "white",
            "showbackground": true,
            "ticks": "",
            "zerolinecolor": "white"
           },
           "zaxis": {
            "backgroundcolor": "#E5ECF6",
            "gridcolor": "white",
            "gridwidth": 2,
            "linecolor": "white",
            "showbackground": true,
            "ticks": "",
            "zerolinecolor": "white"
           }
          },
          "shapedefaults": {
           "line": {
            "color": "#2a3f5f"
           }
          },
          "ternary": {
           "aaxis": {
            "gridcolor": "white",
            "linecolor": "white",
            "ticks": ""
           },
           "baxis": {
            "gridcolor": "white",
            "linecolor": "white",
            "ticks": ""
           },
           "bgcolor": "#E5ECF6",
           "caxis": {
            "gridcolor": "white",
            "linecolor": "white",
            "ticks": ""
           }
          },
          "title": {
           "x": 0.05
          },
          "xaxis": {
           "automargin": true,
           "gridcolor": "white",
           "linecolor": "white",
           "ticks": "",
           "title": {
            "standoff": 15
           },
           "zerolinecolor": "white",
           "zerolinewidth": 2
          },
          "yaxis": {
           "automargin": true,
           "gridcolor": "white",
           "linecolor": "white",
           "ticks": "",
           "title": {
            "standoff": 15
           },
           "zerolinecolor": "white",
           "zerolinewidth": 2
          }
         }
        },
        "title": {
         "text": "Aggregated Mean Political Bias of Recommendations"
        },
        "width": 850,
        "xaxis": {
         "tickvals": [
          0,
          1,
          2,
          3,
          4
         ],
         "title": {
          "text": "Steps"
         }
        },
        "yaxis": {
         "title": {
          "text": "Political Bias Weight"
         }
        }
       }
      }
     },
     "metadata": {}
    }
   ],
   "source": [
    "import plotly.graph_objects as go\n",
    "\n",
    "fig = go.Figure()\n",
    " \n",
    "vals = [df_right, df_left, df_neutral]\n",
    "\n",
    "# for val in vals:\n",
    "#     for i in range(5):\n",
    "#         fig.add_trace(go.Scatter(x=rounds, y=val[i][\"weights\"], name=val[i][\"bias\"] + \", \" + val[i][\"topic\"], line=dict(color=val[i][\"color\"], width=1.2), mode='lines', showlegend=False)) \n",
    "\n",
    "fig.add_trace(go.Scatter(x=rounds, y=right_vals, name=\"Right Bot\", line=dict(color='rgb(203,24,29)', width=2), mode='lines' ))\n",
    "fig.add_trace(go.Scatter(x=rounds, y=left_vals, name=\"Left Bot\", line=dict(color='rgb(33,113,181)', width=2), mode='lines'))\n",
    "fig.add_trace(go.Scatter(x=rounds, y=neutral_vals, name=\"Neutral Bot\", line=dict(color='rgb(84,84,84)', width=2), mode=\"lines\"))\n",
    "\n",
    "fig.update_layout(\n",
    "    title=\"Aggregated Mean Political Bias of Recommendations\",\n",
    "    legend_title=\"Bots\",\n",
    "    width=850,\n",
    "    height=525,\n",
    "    yaxis=dict(title=\"Political Bias Weight\"),\n",
    "    xaxis=dict(tickvals=rounds, title=\"Steps\"),\n",
    "\n",
    "    )\n",
    "\n",
    "fig.show()"
   ]
  },
  {
   "cell_type": "code",
   "execution_count": 395,
   "metadata": {},
   "outputs": [
    {
     "output_type": "error",
     "ename": "IndentationError",
     "evalue": "unindent does not match any outer indentation level (<tokenize>, line 40)",
     "traceback": [
      "\u001b[0;36m  File \u001b[0;32m\"<tokenize>\"\u001b[0;36m, line \u001b[0;32m40\u001b[0m\n\u001b[0;31m    text= '\"' + df_left[1][\"topic\"] + '\"',\u001b[0m\n\u001b[0m    ^\u001b[0m\n\u001b[0;31mIndentationError\u001b[0m\u001b[0;31m:\u001b[0m unindent does not match any outer indentation level\n"
     ]
    }
   ],
   "source": [
    "import plotly.graph_objects as go\n",
    "from plotly.subplots import make_subplots\n",
    "\n",
    "fig = make_subplots(\n",
    "    rows=2, cols=1,\n",
    "    subplot_titles=('Right Bot', 'Left Bot', 'Neutral Bot'),\n",
    "    shared_yaxes=True,\n",
    "    x_title=\"Steps\",\n",
    "    y_title=\"Political Bias Weight\"\n",
    "    )\n",
    " \n",
    "for i in range(5):\n",
    "    fig.add_trace(go.Scatter(x=rounds, y=df_right[i][\"weights\"], name=df_right[i][\"bias\"] + \", \" + df_right[i][\"topic\"], line=dict(color=df_right[i][\"color\"], width=1.5), mode='lines', showlegend=False),1,1) \n",
    "\n",
    "for i in range(5):\n",
    "    fig.add_trace(go.Scatter(x=rounds, y=df_left[i][\"weights\"], name=df_left[i][\"bias\"] + \", \" + df_left[i][\"topic\"], line=dict(color=df_left[i][\"color\"], width=1.5), mode='lines', showlegend=False),1,2) \n",
    "\n",
    "for i in range(5):\n",
    "    fig.add_trace(go.Scatter(x=rounds, y=df_neutral[i][\"weights\"], name=df_neutral[i][\"bias\"] + \", \" + df_neutral[i][\"topic\"], line=dict(color=df_neutral[i][\"color\"], width=1.5), mode='lines', showlegend=False),1,3) \n",
    "\n",
    "fig.add_annotation(x=0.012, y=-0.27,\n",
    "    text= '\"' + df_left[0][\"topic\"] + '\"',\n",
    "    showarrow=True, \n",
    "    ax=70,\n",
    "            ay=30,\n",
    "            xref='x1',\n",
    "            yref='x1')\n",
    "\n",
    "fig.add_annotation(x=0.012, y=0.9, text= '\"' + df_left[1][\"topic\"] + '\"',\n",
    "            showarrow=True,\n",
    "            ax=70,\n",
    "            ay=-30,\n",
    "            xref='x1',\n",
    "            yref='x1')     ax=50,\n",
    "        y=50,\n",
    "            xref='x2',\n",
    "            yref='y2')\n",
    "\n",
    "fig.ad otation(x=0 y=0.9,\n",
    "       text= '\"' + df_left[1][\"topic\"] + '\"',\n",
    "            showarrow=True,\n",
    "            ax=70,\n",
    "            ay=-30,\n",
    "            xref='x3',\n",
    "            yref=\"y3\")\n",
    "\n",
    "fig.add_annotation(x=0.012, y=0.27,\n",
    "            text= '\"' + df_left[4][\"topic\"] + '\"',\n",
    "            showarrow=True,\n",
    "            ax=50,\n",
    "            ay=50,\n",
    "            xref='x3',\n",
    "            yref='y3')\n",
    "\n",
    "# fig.add_trace(go.Scatter(x=rounds, y=right_vals, name=\"Mean Right\", line=dict(color='#B22222', width=3), mode='lines' ))\n",
    "# fig.add_trace(go.Scatter(x=rounds, y=left_vals, name=\"Mean Left\", line=dict(color='#3366CC', width=3), mode='lines'))\n",
    "# fig.add_trace(go.Scatter(x=rounds, y=neutral_vals, name=\"Mean Neutral\", line=dict(color='#242424', width=3), mode=\"lines\"))\n",
    "\n",
    "fig.update_layout(\n",
    "    title=\"Average Political Bias Using Different Seach Terms\",\n",
    "    width=2000,\n",
    "    height=400\n",
    "    )\n",
    "\n",
    "fig.show()\n",
    "\n"
   ]
  },
  {
   "cell_type": "code",
   "execution_count": 394,
   "metadata": {},
   "outputs": [
    {
     "output_type": "error",
     "ename": "SyntaxError",
     "evalue": "invalid syntax (<ipython-input-394-4ec63c99c17b>, line 1)",
     "traceback": [
      "\u001b[0;36m  File \u001b[0;32m\"<ipython-input-394-4ec63c99c17b>\"\u001b[0;36m, line \u001b[0;32m1\u001b[0m\n\u001b[0;31m    fig.add_annotation.\u001b[0m\n\u001b[0m                       ^\u001b[0m\n\u001b[0;31mSyntaxError\u001b[0m\u001b[0;31m:\u001b[0m invalid syntax\n"
     ]
    }
   ],
   "source": [
    "fig.add_annotation."
   ]
  },
  {
   "cell_type": "code",
   "execution_count": 375,
   "metadata": {},
   "outputs": [],
   "source": [
    "fig.write_image('/Users/danielcovelli/Desktop/ISF190/images/fig2.jpeg')"
   ]
  },
  {
   "cell_type": "code",
   "execution_count": 376,
   "metadata": {},
   "outputs": [
    {
     "output_type": "error",
     "ename": "NameError",
     "evalue": "name 'df_bias_at_step' is not defined",
     "traceback": [
      "\u001b[0;31m---------------------------------------------------------------------------\u001b[0m",
      "\u001b[0;31mNameError\u001b[0m                                 Traceback (most recent call last)",
      "\u001b[0;32m<ipython-input-376-882f04f6d1f0>\u001b[0m in \u001b[0;36m<module>\u001b[0;34m\u001b[0m\n\u001b[0;32m----> 1\u001b[0;31m \u001b[0mfig\u001b[0m \u001b[0;34m=\u001b[0m \u001b[0mpx\u001b[0m\u001b[0;34m.\u001b[0m\u001b[0mline\u001b[0m\u001b[0;34m(\u001b[0m\u001b[0mdf_bias_at_step\u001b[0m\u001b[0;34m,\u001b[0m \u001b[0mx\u001b[0m\u001b[0;34m=\u001b[0m\u001b[0;34m\"round\"\u001b[0m\u001b[0;34m,\u001b[0m \u001b[0my\u001b[0m\u001b[0;34m=\u001b[0m\u001b[0;34m\"weight\"\u001b[0m\u001b[0;34m,\u001b[0m \u001b[0mcolor\u001b[0m\u001b[0;34m=\u001b[0m\u001b[0;34m'bias'\u001b[0m\u001b[0;34m)\u001b[0m\u001b[0;34m\u001b[0m\u001b[0;34m\u001b[0m\u001b[0m\n\u001b[0m\u001b[1;32m      2\u001b[0m \u001b[0mfig\u001b[0m\u001b[0;34m.\u001b[0m\u001b[0mshow\u001b[0m\u001b[0;34m(\u001b[0m\u001b[0;34m)\u001b[0m\u001b[0;34m\u001b[0m\u001b[0;34m\u001b[0m\u001b[0m\n",
      "\u001b[0;31mNameError\u001b[0m: name 'df_bias_at_step' is not defined"
     ]
    }
   ],
   "source": [
    "fig = px.line(df_bias_at_step, x=\"round\", y=\"weight\", color='bias')\n",
    "fig.show()"
   ]
  },
  {
   "cell_type": "code",
   "execution_count": 377,
   "metadata": {},
   "outputs": [],
   "source": [
    "fig.write_image('/Users/danielcovelli/Desktop/ISF190/images/fig1.jpeg')\n"
   ]
  },
  {
   "cell_type": "code",
   "execution_count": 378,
   "metadata": {},
   "outputs": [
    {
     "output_type": "display_data",
     "data": {
      "application/vnd.plotly.v1+json": {
       "config": {
        "plotlyServerURL": "https://plot.ly"
       },
       "data": [
        {
         "link": {
          "color": [
           "rgba(31, 119, 180, 0.4)",
           "rgba(255, 127, 14, 0.4)",
           "rgba(255, 127, 14, 0.4)",
           "rgba(255, 127, 14, 0.4)",
           "rgba(255, 127, 14, 0.4)",
           "rgba(227, 119, 194, 0.4)",
           "rgba(127, 127, 127, 0.4)",
           "rgba(188, 189, 34, 0.4)",
           "rgba(31, 119, 180, 0.4)",
           "rgba(23, 190, 207, 0.4)",
           "rgba(255, 127, 14, 0.4)",
           "rgba(255, 127, 14, 0.4)",
           "rgba(255, 127, 14, 0.4)",
           "rgba(140, 86, 75, 0.4)",
           "rgba(140, 86, 75, 0.4)",
           "rgba(140, 86, 75, 0.4)",
           "rgba(140, 86, 75, 0.4)",
           "rgba(140, 86, 75, 0.4)",
           "rgba(140, 86, 75, 0.4)",
           "rgba(140, 86, 75, 0.4)",
           "rgba(140, 86, 75, 0.4)",
           "rgba(140, 86, 75, 0.4)",
           "rgba(140, 86, 75, 0.4)",
           "rgba(140, 86, 75, 0.4)",
           "rgba(214, 39, 40, 0.4)",
           "rgba(140, 86, 75, 0.4)",
           "rgba(140, 86, 75, 0.4)",
           "rgba(140, 86, 75, 0.4)",
           "rgba(140, 86, 75, 0.4)",
           "rgba(140, 86, 75, 0.4)",
           "rgba(140, 86, 75, 0.4)",
           "rgba(127, 127, 127, 0.4)",
           "rgba(127, 127, 127, 0.4)",
           "rgba(127, 127, 127, 0.4)",
           "rgba(188, 189, 34, 0.4)",
           "rgba(23, 190, 207, 0.4)",
           "rgba(44, 160, 44, 0.4)",
           "rgba(44, 160, 44, 0.4)",
           "rgba(44, 160, 44, 0.4)",
           "rgba(44, 160, 44, 0.4)",
           "rgba(44, 160, 44, 0.4)",
           "rgba(44, 160, 44, 0.4)",
           "rgba(44, 160, 44, 0.4)",
           "rgba(44, 160, 44, 0.4)",
           "rgba(148, 103, 189, 0.4)",
           "rgba(148, 103, 189, 0.4)",
           "rgba(255,0,255, 0.4)",
           "rgba(255,0,255, 0.4)",
           "rgba(227, 119, 194, 0.4)",
           "rgba(188, 189, 34, 0.4)",
           "rgba(127, 127, 127, 0.4)",
           "rgba(23, 190, 207, 0.4)",
           "rgba(23, 190, 207, 0.4)",
           "rgba(31, 119, 180, 0.4)",
           "rgba(31, 119, 180, 0.4)",
           "rgba(255, 127, 14, 0.4)",
           "rgba(44, 160, 44, 0.4)",
           "rgba(214, 39, 40, 0.4)",
           "rgba(214, 39, 40, 0.4)",
           "rgba(148, 103, 189, 0.4)",
           "rgba(148, 103, 189, 0.4)",
           "rgba(148, 103, 189, 0.4)",
           "rgba(227, 119, 194, 0.4)",
           "rgba(227, 119, 194, 0.4)",
           "rgba(227, 119, 194, 0.4)",
           "rgba(148, 103, 189, 0.4)",
           "rgba(140, 86, 75, 0.4)",
           "rgba(227, 119, 194, 0.4)",
           "rgba(127, 127, 127, 0.4)",
           "rgba(255,0,255, 0.4)",
           "rgba(255,0,255, 0.4)"
          ],
          "label": [
           "stream 1",
           "",
           "",
           "",
           "stream 1",
           "",
           "",
           "",
           "",
           "",
           "",
           "",
           "",
           "",
           "",
           "",
           "",
           "",
           "",
           "",
           "",
           "",
           "",
           "",
           "",
           "",
           "",
           "",
           "",
           "",
           "stream 1",
           "",
           "",
           "",
           "",
           "",
           "",
           "",
           "",
           "",
           "",
           "",
           "",
           "",
           "",
           "",
           "Old generation plant (made-up)",
           "New generation plant (made-up)",
           "",
           "",
           "",
           "",
           "",
           "",
           "",
           "",
           "",
           "",
           "",
           "",
           "",
           "",
           "",
           "",
           "",
           "",
           "",
           "",
           "",
           "",
           ""
          ],
          "source": [
           0,
           1,
           1,
           1,
           1,
           6,
           7,
           8,
           10,
           9,
           11,
           11,
           11,
           15,
           15,
           15,
           15,
           15,
           15,
           15,
           15,
           15,
           15,
           15,
           23,
           25,
           5,
           5,
           5,
           5,
           5,
           27,
           17,
           17,
           28,
           29,
           2,
           2,
           2,
           2,
           2,
           2,
           2,
           2,
           34,
           24,
           35,
           35,
           36,
           38,
           37,
           39,
           39,
           40,
           40,
           41,
           42,
           43,
           43,
           4,
           4,
           4,
           26,
           26,
           26,
           44,
           45,
           46,
           47,
           35,
           35
          ],
          "target": [
           1,
           2,
           3,
           4,
           5,
           2,
           4,
           9,
           9,
           4,
           12,
           13,
           14,
           16,
           14,
           17,
           12,
           18,
           19,
           13,
           3,
           20,
           21,
           22,
           24,
           24,
           13,
           3,
           26,
           19,
           12,
           15,
           28,
           3,
           18,
           15,
           12,
           30,
           18,
           31,
           32,
           19,
           33,
           20,
           1,
           5,
           26,
           26,
           37,
           37,
           2,
           4,
           1,
           14,
           13,
           15,
           14,
           42,
           41,
           19,
           26,
           12,
           15,
           3,
           11,
           15,
           1,
           15,
           15,
           26,
           26
          ],
          "value": [
           124.729,
           0.597,
           26.862,
           280.322,
           81.144,
           35,
           35,
           11.606,
           63.965,
           75.571,
           10.639,
           22.505,
           46.184,
           104.453,
           113.726,
           27.14,
           342.165,
           37.797,
           4.412,
           40.858,
           56.691,
           7.863,
           90.008,
           93.494,
           40.719,
           82.233,
           0.129,
           1.401,
           151.891,
           2.096,
           48.58,
           7.013,
           20.897,
           6.242,
           20.897,
           6.995,
           121.066,
           128.69,
           135.835,
           14.458,
           206.267,
           3.64,
           33.218,
           4.413,
           14.375,
           122.952,
           500,
           139.978,
           504.287,
           107.703,
           611.99,
           56.587,
           77.81,
           193.026,
           70.672,
           59.901,
           19.263,
           19.263,
           59.901,
           0.882,
           400.12,
           46.477,
           525.531,
           787.129,
           79.329,
           9.452,
           182.01,
           19.013,
           289.366,
           100,
           100
          ]
         },
         "node": {
          "color": [
           "rgba(31, 119, 180, 0.8)",
           "rgba(255, 127, 14, 0.8)",
           "rgba(44, 160, 44, 0.8)",
           "rgba(214, 39, 40, 0.8)",
           "rgba(148, 103, 189, 0.8)",
           "rgba(140, 86, 75, 0.8)",
           "rgba(227, 119, 194, 0.8)",
           "rgba(127, 127, 127, 0.8)",
           "rgba(188, 189, 34, 0.8)",
           "rgba(23, 190, 207, 0.8)",
           "rgba(31, 119, 180, 0.8)",
           "rgba(255, 127, 14, 0.8)",
           "rgba(44, 160, 44, 0.8)",
           "rgba(214, 39, 40, 0.8)",
           "rgba(148, 103, 189, 0.8)",
           "rgba(140, 86, 75, 0.8)",
           "rgba(227, 119, 194, 0.8)",
           "rgba(127, 127, 127, 0.8)",
           "rgba(188, 189, 34, 0.8)",
           "rgba(23, 190, 207, 0.8)",
           "rgba(31, 119, 180, 0.8)",
           "rgba(255, 127, 14, 0.8)",
           "rgba(44, 160, 44, 0.8)",
           "rgba(214, 39, 40, 0.8)",
           "rgba(148, 103, 189, 0.8)",
           "rgba(140, 86, 75, 0.8)",
           "rgba(227, 119, 194, 0.8)",
           "rgba(127, 127, 127, 0.8)",
           "rgba(188, 189, 34, 0.8)",
           "rgba(23, 190, 207, 0.8)",
           "rgba(31, 119, 180, 0.8)",
           "rgba(255, 127, 14, 0.8)",
           "rgba(44, 160, 44, 0.8)",
           "rgba(214, 39, 40, 0.8)",
           "rgba(148, 103, 189, 0.8)",
           "rgba(255,0,255, 0.8)",
           "rgba(227, 119, 194, 0.8)",
           "rgba(127, 127, 127, 0.8)",
           "rgba(188, 189, 34, 0.8)",
           "rgba(23, 190, 207, 0.8)",
           "rgba(31, 119, 180, 0.8)",
           "rgba(255, 127, 14, 0.8)",
           "rgba(44, 160, 44, 0.8)",
           "rgba(214, 39, 40, 0.8)",
           "rgba(148, 103, 189, 0.8)",
           "rgba(140, 86, 75, 0.8)",
           "rgba(227, 119, 194, 0.8)",
           "rgba(127, 127, 127, 0.8)"
          ],
          "label": [
           "Agricultural 'waste'",
           "Bio-conversion",
           "Liquid",
           "Losses",
           "Solid",
           "Gas",
           "Biofuel imports",
           "Biomass imports",
           "Coal imports",
           "Coal",
           "Coal reserves",
           "District heating",
           "Industry",
           "Heating and cooling - commercial",
           "Heating and cooling - homes",
           "Electricity grid",
           "Over generation / exports",
           "H2 conversion",
           "Road transport",
           "Agriculture",
           "Rail transport",
           "Lighting & appliances - commercial",
           "Lighting & appliances - homes",
           "Gas imports",
           "Ngas",
           "Gas reserves",
           "Thermal generation",
           "Geothermal",
           "H2",
           "Hydro",
           "International shipping",
           "Domestic aviation",
           "International aviation",
           "National navigation",
           "Marine algae",
           "Nuclear",
           "Oil imports",
           "Oil",
           "Oil reserves",
           "Other waste",
           "Pumped heat",
           "Solar PV",
           "Solar Thermal",
           "Solar",
           "Tidal",
           "UK land based bioenergy",
           "Wave",
           "Wind"
          ],
          "line": {
           "color": "black",
           "width": 0.5
          },
          "pad": 15,
          "thickness": 15
         },
         "type": "sankey",
         "valueformat": ".0f",
         "valuesuffix": "TWh"
        }
       ],
       "layout": {
        "font": {
         "size": 10
        },
        "template": {
         "data": {
          "bar": [
           {
            "error_x": {
             "color": "#2a3f5f"
            },
            "error_y": {
             "color": "#2a3f5f"
            },
            "marker": {
             "line": {
              "color": "#E5ECF6",
              "width": 0.5
             }
            },
            "type": "bar"
           }
          ],
          "barpolar": [
           {
            "marker": {
             "line": {
              "color": "#E5ECF6",
              "width": 0.5
             }
            },
            "type": "barpolar"
           }
          ],
          "carpet": [
           {
            "aaxis": {
             "endlinecolor": "#2a3f5f",
             "gridcolor": "white",
             "linecolor": "white",
             "minorgridcolor": "white",
             "startlinecolor": "#2a3f5f"
            },
            "baxis": {
             "endlinecolor": "#2a3f5f",
             "gridcolor": "white",
             "linecolor": "white",
             "minorgridcolor": "white",
             "startlinecolor": "#2a3f5f"
            },
            "type": "carpet"
           }
          ],
          "choropleth": [
           {
            "colorbar": {
             "outlinewidth": 0,
             "ticks": ""
            },
            "type": "choropleth"
           }
          ],
          "contour": [
           {
            "colorbar": {
             "outlinewidth": 0,
             "ticks": ""
            },
            "colorscale": [
             [
              0,
              "#0d0887"
             ],
             [
              0.1111111111111111,
              "#46039f"
             ],
             [
              0.2222222222222222,
              "#7201a8"
             ],
             [
              0.3333333333333333,
              "#9c179e"
             ],
             [
              0.4444444444444444,
              "#bd3786"
             ],
             [
              0.5555555555555556,
              "#d8576b"
             ],
             [
              0.6666666666666666,
              "#ed7953"
             ],
             [
              0.7777777777777778,
              "#fb9f3a"
             ],
             [
              0.8888888888888888,
              "#fdca26"
             ],
             [
              1,
              "#f0f921"
             ]
            ],
            "type": "contour"
           }
          ],
          "contourcarpet": [
           {
            "colorbar": {
             "outlinewidth": 0,
             "ticks": ""
            },
            "type": "contourcarpet"
           }
          ],
          "heatmap": [
           {
            "colorbar": {
             "outlinewidth": 0,
             "ticks": ""
            },
            "colorscale": [
             [
              0,
              "#0d0887"
             ],
             [
              0.1111111111111111,
              "#46039f"
             ],
             [
              0.2222222222222222,
              "#7201a8"
             ],
             [
              0.3333333333333333,
              "#9c179e"
             ],
             [
              0.4444444444444444,
              "#bd3786"
             ],
             [
              0.5555555555555556,
              "#d8576b"
             ],
             [
              0.6666666666666666,
              "#ed7953"
             ],
             [
              0.7777777777777778,
              "#fb9f3a"
             ],
             [
              0.8888888888888888,
              "#fdca26"
             ],
             [
              1,
              "#f0f921"
             ]
            ],
            "type": "heatmap"
           }
          ],
          "heatmapgl": [
           {
            "colorbar": {
             "outlinewidth": 0,
             "ticks": ""
            },
            "colorscale": [
             [
              0,
              "#0d0887"
             ],
             [
              0.1111111111111111,
              "#46039f"
             ],
             [
              0.2222222222222222,
              "#7201a8"
             ],
             [
              0.3333333333333333,
              "#9c179e"
             ],
             [
              0.4444444444444444,
              "#bd3786"
             ],
             [
              0.5555555555555556,
              "#d8576b"
             ],
             [
              0.6666666666666666,
              "#ed7953"
             ],
             [
              0.7777777777777778,
              "#fb9f3a"
             ],
             [
              0.8888888888888888,
              "#fdca26"
             ],
             [
              1,
              "#f0f921"
             ]
            ],
            "type": "heatmapgl"
           }
          ],
          "histogram": [
           {
            "marker": {
             "colorbar": {
              "outlinewidth": 0,
              "ticks": ""
             }
            },
            "type": "histogram"
           }
          ],
          "histogram2d": [
           {
            "colorbar": {
             "outlinewidth": 0,
             "ticks": ""
            },
            "colorscale": [
             [
              0,
              "#0d0887"
             ],
             [
              0.1111111111111111,
              "#46039f"
             ],
             [
              0.2222222222222222,
              "#7201a8"
             ],
             [
              0.3333333333333333,
              "#9c179e"
             ],
             [
              0.4444444444444444,
              "#bd3786"
             ],
             [
              0.5555555555555556,
              "#d8576b"
             ],
             [
              0.6666666666666666,
              "#ed7953"
             ],
             [
              0.7777777777777778,
              "#fb9f3a"
             ],
             [
              0.8888888888888888,
              "#fdca26"
             ],
             [
              1,
              "#f0f921"
             ]
            ],
            "type": "histogram2d"
           }
          ],
          "histogram2dcontour": [
           {
            "colorbar": {
             "outlinewidth": 0,
             "ticks": ""
            },
            "colorscale": [
             [
              0,
              "#0d0887"
             ],
             [
              0.1111111111111111,
              "#46039f"
             ],
             [
              0.2222222222222222,
              "#7201a8"
             ],
             [
              0.3333333333333333,
              "#9c179e"
             ],
             [
              0.4444444444444444,
              "#bd3786"
             ],
             [
              0.5555555555555556,
              "#d8576b"
             ],
             [
              0.6666666666666666,
              "#ed7953"
             ],
             [
              0.7777777777777778,
              "#fb9f3a"
             ],
             [
              0.8888888888888888,
              "#fdca26"
             ],
             [
              1,
              "#f0f921"
             ]
            ],
            "type": "histogram2dcontour"
           }
          ],
          "mesh3d": [
           {
            "colorbar": {
             "outlinewidth": 0,
             "ticks": ""
            },
            "type": "mesh3d"
           }
          ],
          "parcoords": [
           {
            "line": {
             "colorbar": {
              "outlinewidth": 0,
              "ticks": ""
             }
            },
            "type": "parcoords"
           }
          ],
          "pie": [
           {
            "automargin": true,
            "type": "pie"
           }
          ],
          "scatter": [
           {
            "marker": {
             "colorbar": {
              "outlinewidth": 0,
              "ticks": ""
             }
            },
            "type": "scatter"
           }
          ],
          "scatter3d": [
           {
            "line": {
             "colorbar": {
              "outlinewidth": 0,
              "ticks": ""
             }
            },
            "marker": {
             "colorbar": {
              "outlinewidth": 0,
              "ticks": ""
             }
            },
            "type": "scatter3d"
           }
          ],
          "scattercarpet": [
           {
            "marker": {
             "colorbar": {
              "outlinewidth": 0,
              "ticks": ""
             }
            },
            "type": "scattercarpet"
           }
          ],
          "scattergeo": [
           {
            "marker": {
             "colorbar": {
              "outlinewidth": 0,
              "ticks": ""
             }
            },
            "type": "scattergeo"
           }
          ],
          "scattergl": [
           {
            "marker": {
             "colorbar": {
              "outlinewidth": 0,
              "ticks": ""
             }
            },
            "type": "scattergl"
           }
          ],
          "scattermapbox": [
           {
            "marker": {
             "colorbar": {
              "outlinewidth": 0,
              "ticks": ""
             }
            },
            "type": "scattermapbox"
           }
          ],
          "scatterpolar": [
           {
            "marker": {
             "colorbar": {
              "outlinewidth": 0,
              "ticks": ""
             }
            },
            "type": "scatterpolar"
           }
          ],
          "scatterpolargl": [
           {
            "marker": {
             "colorbar": {
              "outlinewidth": 0,
              "ticks": ""
             }
            },
            "type": "scatterpolargl"
           }
          ],
          "scatterternary": [
           {
            "marker": {
             "colorbar": {
              "outlinewidth": 0,
              "ticks": ""
             }
            },
            "type": "scatterternary"
           }
          ],
          "surface": [
           {
            "colorbar": {
             "outlinewidth": 0,
             "ticks": ""
            },
            "colorscale": [
             [
              0,
              "#0d0887"
             ],
             [
              0.1111111111111111,
              "#46039f"
             ],
             [
              0.2222222222222222,
              "#7201a8"
             ],
             [
              0.3333333333333333,
              "#9c179e"
             ],
             [
              0.4444444444444444,
              "#bd3786"
             ],
             [
              0.5555555555555556,
              "#d8576b"
             ],
             [
              0.6666666666666666,
              "#ed7953"
             ],
             [
              0.7777777777777778,
              "#fb9f3a"
             ],
             [
              0.8888888888888888,
              "#fdca26"
             ],
             [
              1,
              "#f0f921"
             ]
            ],
            "type": "surface"
           }
          ],
          "table": [
           {
            "cells": {
             "fill": {
              "color": "#EBF0F8"
             },
             "line": {
              "color": "white"
             }
            },
            "header": {
             "fill": {
              "color": "#C8D4E3"
             },
             "line": {
              "color": "white"
             }
            },
            "type": "table"
           }
          ]
         },
         "layout": {
          "annotationdefaults": {
           "arrowcolor": "#2a3f5f",
           "arrowhead": 0,
           "arrowwidth": 1
          },
          "coloraxis": {
           "colorbar": {
            "outlinewidth": 0,
            "ticks": ""
           }
          },
          "colorscale": {
           "diverging": [
            [
             0,
             "#8e0152"
            ],
            [
             0.1,
             "#c51b7d"
            ],
            [
             0.2,
             "#de77ae"
            ],
            [
             0.3,
             "#f1b6da"
            ],
            [
             0.4,
             "#fde0ef"
            ],
            [
             0.5,
             "#f7f7f7"
            ],
            [
             0.6,
             "#e6f5d0"
            ],
            [
             0.7,
             "#b8e186"
            ],
            [
             0.8,
             "#7fbc41"
            ],
            [
             0.9,
             "#4d9221"
            ],
            [
             1,
             "#276419"
            ]
           ],
           "sequential": [
            [
             0,
             "#0d0887"
            ],
            [
             0.1111111111111111,
             "#46039f"
            ],
            [
             0.2222222222222222,
             "#7201a8"
            ],
            [
             0.3333333333333333,
             "#9c179e"
            ],
            [
             0.4444444444444444,
             "#bd3786"
            ],
            [
             0.5555555555555556,
             "#d8576b"
            ],
            [
             0.6666666666666666,
             "#ed7953"
            ],
            [
             0.7777777777777778,
             "#fb9f3a"
            ],
            [
             0.8888888888888888,
             "#fdca26"
            ],
            [
             1,
             "#f0f921"
            ]
           ],
           "sequentialminus": [
            [
             0,
             "#0d0887"
            ],
            [
             0.1111111111111111,
             "#46039f"
            ],
            [
             0.2222222222222222,
             "#7201a8"
            ],
            [
             0.3333333333333333,
             "#9c179e"
            ],
            [
             0.4444444444444444,
             "#bd3786"
            ],
            [
             0.5555555555555556,
             "#d8576b"
            ],
            [
             0.6666666666666666,
             "#ed7953"
            ],
            [
             0.7777777777777778,
             "#fb9f3a"
            ],
            [
             0.8888888888888888,
             "#fdca26"
            ],
            [
             1,
             "#f0f921"
            ]
           ]
          },
          "colorway": [
           "#636efa",
           "#EF553B",
           "#00cc96",
           "#ab63fa",
           "#FFA15A",
           "#19d3f3",
           "#FF6692",
           "#B6E880",
           "#FF97FF",
           "#FECB52"
          ],
          "font": {
           "color": "#2a3f5f"
          },
          "geo": {
           "bgcolor": "white",
           "lakecolor": "white",
           "landcolor": "#E5ECF6",
           "showlakes": true,
           "showland": true,
           "subunitcolor": "white"
          },
          "hoverlabel": {
           "align": "left"
          },
          "hovermode": "closest",
          "mapbox": {
           "style": "light"
          },
          "paper_bgcolor": "white",
          "plot_bgcolor": "#E5ECF6",
          "polar": {
           "angularaxis": {
            "gridcolor": "white",
            "linecolor": "white",
            "ticks": ""
           },
           "bgcolor": "#E5ECF6",
           "radialaxis": {
            "gridcolor": "white",
            "linecolor": "white",
            "ticks": ""
           }
          },
          "scene": {
           "xaxis": {
            "backgroundcolor": "#E5ECF6",
            "gridcolor": "white",
            "gridwidth": 2,
            "linecolor": "white",
            "showbackground": true,
            "ticks": "",
            "zerolinecolor": "white"
           },
           "yaxis": {
            "backgroundcolor": "#E5ECF6",
            "gridcolor": "white",
            "gridwidth": 2,
            "linecolor": "white",
            "showbackground": true,
            "ticks": "",
            "zerolinecolor": "white"
           },
           "zaxis": {
            "backgroundcolor": "#E5ECF6",
            "gridcolor": "white",
            "gridwidth": 2,
            "linecolor": "white",
            "showbackground": true,
            "ticks": "",
            "zerolinecolor": "white"
           }
          },
          "shapedefaults": {
           "line": {
            "color": "#2a3f5f"
           }
          },
          "ternary": {
           "aaxis": {
            "gridcolor": "white",
            "linecolor": "white",
            "ticks": ""
           },
           "baxis": {
            "gridcolor": "white",
            "linecolor": "white",
            "ticks": ""
           },
           "bgcolor": "#E5ECF6",
           "caxis": {
            "gridcolor": "white",
            "linecolor": "white",
            "ticks": ""
           }
          },
          "title": {
           "x": 0.05
          },
          "xaxis": {
           "automargin": true,
           "gridcolor": "white",
           "linecolor": "white",
           "ticks": "",
           "title": {
            "standoff": 15
           },
           "zerolinecolor": "white",
           "zerolinewidth": 2
          },
          "yaxis": {
           "automargin": true,
           "gridcolor": "white",
           "linecolor": "white",
           "ticks": "",
           "title": {
            "standoff": 15
           },
           "zerolinecolor": "white",
           "zerolinewidth": 2
          }
         }
        },
        "title": {
         "text": "Energy forecast for 2050<br>Source: Department of Energy & Climate Change, Tom Counsell via <a href='https://bost.ocks.org/mike/sankey/'>Mike Bostock</a>"
        }
       }
      }
     },
     "metadata": {}
    }
   ],
   "source": [
    "import plotly.graph_objects as go\n",
    "import urllib, json\n",
    "\n",
    "url = 'https://raw.githubusercontent.com/plotly/plotly.js/master/test/image/mocks/sankey_energy.json'\n",
    "response = urllib.request.urlopen(url)\n",
    "data = json.loads(response.read())\n",
    "\n",
    "# override gray link colors with 'source' colors\n",
    "opacity = 0.4\n",
    "# change 'magenta' to its 'rgba' value to add opacity\n",
    "data['data'][0]['node']['color'] = ['rgba(255,0,255, 0.8)' if color == \"magenta\" else color for color in data['data'][0]['node']['color']]\n",
    "data['data'][0]['link']['color'] = [data['data'][0]['node']['color'][src].replace(\"0.8\", str(opacity))\n",
    "                                    for src in data['data'][0]['link']['source']]\n",
    "\n",
    "fig = go.Figure(data=[go.Sankey(\n",
    "    valueformat = \".0f\",\n",
    "    valuesuffix = \"TWh\",\n",
    "    # Define nodes\n",
    "    node = dict(\n",
    "      pad = 15,\n",
    "      thickness = 15,\n",
    "      line = dict(color = \"black\", width = 0.5),\n",
    "      label =  data['data'][0]['node']['label'],\n",
    "      color =  data['data'][0]['node']['color']\n",
    "    ),\n",
    "    # Add links\n",
    "    link = dict(\n",
    "      source =  data['data'][0]['link']['source'],\n",
    "      target =  data['data'][0]['link']['target'],\n",
    "      value =  data['data'][0]['link']['value'],\n",
    "      label =  data['data'][0]['link']['label'],\n",
    "      color =  data['data'][0]['link']['color']\n",
    "))])\n",
    "\n",
    "fig.update_layout(title_text=\"Energy forecast for 2050<br>Source: Department of Energy & Climate Change, Tom Counsell via <a href='https://bost.ocks.org/mike/sankey/'>Mike Bostock</a>\",\n",
    "                  font_size=10)\n",
    "fig.show()"
   ]
  },
  {
   "cell_type": "code",
   "execution_count": 155,
   "metadata": {},
   "outputs": [
    {
     "output_type": "execute_result",
     "data": {
      "text/plain": "{'data': [{'type': 'sankey',\n   'domain': {'x': [0, 1], 'y': [0, 1]},\n   'orientation': 'h',\n   'valueformat': '.0f',\n   'valuesuffix': 'TWh',\n   'node': {'pad': 15,\n    'thickness': 15,\n    'line': {'color': 'black', 'width': 0.5},\n    'label': [\"Agricultural 'waste'\",\n     'Bio-conversion',\n     'Liquid',\n     'Losses',\n     'Solid',\n     'Gas',\n     'Biofuel imports',\n     'Biomass imports',\n     'Coal imports',\n     'Coal',\n     'Coal reserves',\n     'District heating',\n     'Industry',\n     'Heating and cooling - commercial',\n     'Heating and cooling - homes',\n     'Electricity grid',\n     'Over generation / exports',\n     'H2 conversion',\n     'Road transport',\n     'Agriculture',\n     'Rail transport',\n     'Lighting & appliances - commercial',\n     'Lighting & appliances - homes',\n     'Gas imports',\n     'Ngas',\n     'Gas reserves',\n     'Thermal generation',\n     'Geothermal',\n     'H2',\n     'Hydro',\n     'International shipping',\n     'Domestic aviation',\n     'International aviation',\n     'National navigation',\n     'Marine algae',\n     'Nuclear',\n     'Oil imports',\n     'Oil',\n     'Oil reserves',\n     'Other waste',\n     'Pumped heat',\n     'Solar PV',\n     'Solar Thermal',\n     'Solar',\n     'Tidal',\n     'UK land based bioenergy',\n     'Wave',\n     'Wind'],\n    'color': ['rgba(31, 119, 180, 0.8)',\n     'rgba(255, 127, 14, 0.8)',\n     'rgba(44, 160, 44, 0.8)',\n     'rgba(214, 39, 40, 0.8)',\n     'rgba(148, 103, 189, 0.8)',\n     'rgba(140, 86, 75, 0.8)',\n     'rgba(227, 119, 194, 0.8)',\n     'rgba(127, 127, 127, 0.8)',\n     'rgba(188, 189, 34, 0.8)',\n     'rgba(23, 190, 207, 0.8)',\n     'rgba(31, 119, 180, 0.8)',\n     'rgba(255, 127, 14, 0.8)',\n     'rgba(44, 160, 44, 0.8)',\n     'rgba(214, 39, 40, 0.8)',\n     'rgba(148, 103, 189, 0.8)',\n     'rgba(140, 86, 75, 0.8)',\n     'rgba(227, 119, 194, 0.8)',\n     'rgba(127, 127, 127, 0.8)',\n     'rgba(188, 189, 34, 0.8)',\n     'rgba(23, 190, 207, 0.8)',\n     'rgba(31, 119, 180, 0.8)',\n     'rgba(255, 127, 14, 0.8)',\n     'rgba(44, 160, 44, 0.8)',\n     'rgba(214, 39, 40, 0.8)',\n     'rgba(148, 103, 189, 0.8)',\n     'rgba(140, 86, 75, 0.8)',\n     'rgba(227, 119, 194, 0.8)',\n     'rgba(127, 127, 127, 0.8)',\n     'rgba(188, 189, 34, 0.8)',\n     'rgba(23, 190, 207, 0.8)',\n     'rgba(31, 119, 180, 0.8)',\n     'rgba(255, 127, 14, 0.8)',\n     'rgba(44, 160, 44, 0.8)',\n     'rgba(214, 39, 40, 0.8)',\n     'rgba(148, 103, 189, 0.8)',\n     'rgba(255,0,255, 0.8)',\n     'rgba(227, 119, 194, 0.8)',\n     'rgba(127, 127, 127, 0.8)',\n     'rgba(188, 189, 34, 0.8)',\n     'rgba(23, 190, 207, 0.8)',\n     'rgba(31, 119, 180, 0.8)',\n     'rgba(255, 127, 14, 0.8)',\n     'rgba(44, 160, 44, 0.8)',\n     'rgba(214, 39, 40, 0.8)',\n     'rgba(148, 103, 189, 0.8)',\n     'rgba(140, 86, 75, 0.8)',\n     'rgba(227, 119, 194, 0.8)',\n     'rgba(127, 127, 127, 0.8)']},\n   'link': {'source': [0,\n     1,\n     1,\n     1,\n     1,\n     6,\n     7,\n     8,\n     10,\n     9,\n     11,\n     11,\n     11,\n     15,\n     15,\n     15,\n     15,\n     15,\n     15,\n     15,\n     15,\n     15,\n     15,\n     15,\n     23,\n     25,\n     5,\n     5,\n     5,\n     5,\n     5,\n     27,\n     17,\n     17,\n     28,\n     29,\n     2,\n     2,\n     2,\n     2,\n     2,\n     2,\n     2,\n     2,\n     34,\n     24,\n     35,\n     35,\n     36,\n     38,\n     37,\n     39,\n     39,\n     40,\n     40,\n     41,\n     42,\n     43,\n     43,\n     4,\n     4,\n     4,\n     26,\n     26,\n     26,\n     44,\n     45,\n     46,\n     47,\n     35,\n     35],\n    'target': [1,\n     2,\n     3,\n     4,\n     5,\n     2,\n     4,\n     9,\n     9,\n     4,\n     12,\n     13,\n     14,\n     16,\n     14,\n     17,\n     12,\n     18,\n     19,\n     13,\n     3,\n     20,\n     21,\n     22,\n     24,\n     24,\n     13,\n     3,\n     26,\n     19,\n     12,\n     15,\n     28,\n     3,\n     18,\n     15,\n     12,\n     30,\n     18,\n     31,\n     32,\n     19,\n     33,\n     20,\n     1,\n     5,\n     26,\n     26,\n     37,\n     37,\n     2,\n     4,\n     1,\n     14,\n     13,\n     15,\n     14,\n     42,\n     41,\n     19,\n     26,\n     12,\n     15,\n     3,\n     11,\n     15,\n     1,\n     15,\n     15,\n     26,\n     26],\n    'value': [124.729,\n     0.597,\n     26.862,\n     280.322,\n     81.144,\n     35,\n     35,\n     11.606,\n     63.965,\n     75.571,\n     10.639,\n     22.505,\n     46.184,\n     104.453,\n     113.726,\n     27.14,\n     342.165,\n     37.797,\n     4.412,\n     40.858,\n     56.691,\n     7.863,\n     90.008,\n     93.494,\n     40.719,\n     82.233,\n     0.129,\n     1.401,\n     151.891,\n     2.096,\n     48.58,\n     7.013,\n     20.897,\n     6.242,\n     20.897,\n     6.995,\n     121.066,\n     128.69,\n     135.835,\n     14.458,\n     206.267,\n     3.64,\n     33.218,\n     4.413,\n     14.375,\n     122.952,\n     500,\n     139.978,\n     504.287,\n     107.703,\n     611.99,\n     56.587,\n     77.81,\n     193.026,\n     70.672,\n     59.901,\n     19.263,\n     19.263,\n     59.901,\n     0.882,\n     400.12,\n     46.477,\n     525.531,\n     787.129,\n     79.329,\n     9.452,\n     182.01,\n     19.013,\n     289.366,\n     100,\n     100],\n    'color': ['rgba(31, 119, 180, 0.4)',\n     'rgba(255, 127, 14, 0.4)',\n     'rgba(255, 127, 14, 0.4)',\n     'rgba(255, 127, 14, 0.4)',\n     'rgba(255, 127, 14, 0.4)',\n     'rgba(227, 119, 194, 0.4)',\n     'rgba(127, 127, 127, 0.4)',\n     'rgba(188, 189, 34, 0.4)',\n     'rgba(31, 119, 180, 0.4)',\n     'rgba(23, 190, 207, 0.4)',\n     'rgba(255, 127, 14, 0.4)',\n     'rgba(255, 127, 14, 0.4)',\n     'rgba(255, 127, 14, 0.4)',\n     'rgba(140, 86, 75, 0.4)',\n     'rgba(140, 86, 75, 0.4)',\n     'rgba(140, 86, 75, 0.4)',\n     'rgba(140, 86, 75, 0.4)',\n     'rgba(140, 86, 75, 0.4)',\n     'rgba(140, 86, 75, 0.4)',\n     'rgba(140, 86, 75, 0.4)',\n     'rgba(140, 86, 75, 0.4)',\n     'rgba(140, 86, 75, 0.4)',\n     'rgba(140, 86, 75, 0.4)',\n     'rgba(140, 86, 75, 0.4)',\n     'rgba(214, 39, 40, 0.4)',\n     'rgba(140, 86, 75, 0.4)',\n     'rgba(140, 86, 75, 0.4)',\n     'rgba(140, 86, 75, 0.4)',\n     'rgba(140, 86, 75, 0.4)',\n     'rgba(140, 86, 75, 0.4)',\n     'rgba(140, 86, 75, 0.4)',\n     'rgba(127, 127, 127, 0.4)',\n     'rgba(127, 127, 127, 0.4)',\n     'rgba(127, 127, 127, 0.4)',\n     'rgba(188, 189, 34, 0.4)',\n     'rgba(23, 190, 207, 0.4)',\n     'rgba(44, 160, 44, 0.4)',\n     'rgba(44, 160, 44, 0.4)',\n     'rgba(44, 160, 44, 0.4)',\n     'rgba(44, 160, 44, 0.4)',\n     'rgba(44, 160, 44, 0.4)',\n     'rgba(44, 160, 44, 0.4)',\n     'rgba(44, 160, 44, 0.4)',\n     'rgba(44, 160, 44, 0.4)',\n     'rgba(148, 103, 189, 0.4)',\n     'rgba(148, 103, 189, 0.4)',\n     'rgba(255,0,255, 0.4)',\n     'rgba(255,0,255, 0.4)',\n     'rgba(227, 119, 194, 0.4)',\n     'rgba(188, 189, 34, 0.4)',\n     'rgba(127, 127, 127, 0.4)',\n     'rgba(23, 190, 207, 0.4)',\n     'rgba(23, 190, 207, 0.4)',\n     'rgba(31, 119, 180, 0.4)',\n     'rgba(31, 119, 180, 0.4)',\n     'rgba(255, 127, 14, 0.4)',\n     'rgba(44, 160, 44, 0.4)',\n     'rgba(214, 39, 40, 0.4)',\n     'rgba(214, 39, 40, 0.4)',\n     'rgba(148, 103, 189, 0.4)',\n     'rgba(148, 103, 189, 0.4)',\n     'rgba(148, 103, 189, 0.4)',\n     'rgba(227, 119, 194, 0.4)',\n     'rgba(227, 119, 194, 0.4)',\n     'rgba(227, 119, 194, 0.4)',\n     'rgba(148, 103, 189, 0.4)',\n     'rgba(140, 86, 75, 0.4)',\n     'rgba(227, 119, 194, 0.4)',\n     'rgba(127, 127, 127, 0.4)',\n     'rgba(255,0,255, 0.4)',\n     'rgba(255,0,255, 0.4)'],\n    'label': ['stream 1',\n     '',\n     '',\n     '',\n     'stream 1',\n     '',\n     '',\n     '',\n     '',\n     '',\n     '',\n     '',\n     '',\n     '',\n     '',\n     '',\n     '',\n     '',\n     '',\n     '',\n     '',\n     '',\n     '',\n     '',\n     '',\n     '',\n     '',\n     '',\n     '',\n     '',\n     'stream 1',\n     '',\n     '',\n     '',\n     '',\n     '',\n     '',\n     '',\n     '',\n     '',\n     '',\n     '',\n     '',\n     '',\n     '',\n     '',\n     'Old generation plant (made-up)',\n     'New generation plant (made-up)',\n     '',\n     '',\n     '',\n     '',\n     '',\n     '',\n     '',\n     '',\n     '',\n     '',\n     '',\n     '',\n     '',\n     '',\n     '',\n     '',\n     '',\n     '',\n     '',\n     '',\n     '',\n     '',\n     '']}}],\n 'layout': {'title': {'text': \"Energy forecast for 2050, UK — Department of Energy & Climate Change<br>Imperfect copy of <a href='https://bost.ocks.org/mike/sankey/'>Mike Bostock's example</a><br>with numerous <a href='https://plotly.com/javascript/'>Plotly</a> features\"},\n  'width': 1118,\n  'height': 772,\n  'font': {'size': 10},\n  'updatemenus': [{'y': 1,\n    'buttons': [{'label': 'Light',\n      'method': 'relayout',\n      'args': ['paper_bgcolor', 'white']},\n     {'label': 'Dark',\n      'method': 'relayout',\n      'args': ['paper_bgcolor', 'black']}]},\n   {'y': 0.9,\n    'buttons': [{'label': 'Thick',\n      'method': 'restyle',\n      'args': ['node.thickness', 15]},\n     {'label': 'Thin', 'method': 'restyle', 'args': ['node.thickness', 8]}]},\n   {'y': 0.8,\n    'buttons': [{'label': 'Small gap',\n      'method': 'restyle',\n      'args': ['node.pad', 15]},\n     {'label': 'Large gap', 'method': 'restyle', 'args': ['node.pad', 20]}]},\n   {'y': 0.7,\n    'buttons': [{'label': 'Snap',\n      'method': 'restyle',\n      'args': ['arrangement', 'snap']},\n     {'label': 'Perpendicular',\n      'method': 'restyle',\n      'args': ['arrangement', 'perpendicular']},\n     {'label': 'Freeform',\n      'method': 'restyle',\n      'args': ['arrangement', 'freeform']},\n     {'label': 'Fixed',\n      'method': 'restyle',\n      'args': ['arrangement', 'fixed']}]},\n   {'y': 0.6,\n    'buttons': [{'label': 'Horizontal',\n      'method': 'restyle',\n      'args': ['orientation', 'h']},\n     {'label': 'Vertical',\n      'method': 'restyle',\n      'args': ['orientation', 'v']}]}]}}"
     },
     "metadata": {},
     "execution_count": 155
    }
   ],
   "source": []
  },
  {
   "cell_type": "code",
   "execution_count": null,
   "metadata": {},
   "outputs": [],
   "source": []
  }
 ],
 "metadata": {
  "language_info": {
   "codemirror_mode": {
    "name": "ipython",
    "version": 3
   },
   "file_extension": ".py",
   "mimetype": "text/x-python",
   "name": "python",
   "nbconvert_exporter": "python",
   "pygments_lexer": "ipython3",
   "version": "3.8.6-final"
  },
  "orig_nbformat": 2,
  "kernelspec": {
   "name": "python37464bit9c71088700b5432da3d0dd06befbd7eb",
   "display_name": "Python 3.7.4 64-bit"
  }
 },
 "nbformat": 4,
 "nbformat_minor": 2
}